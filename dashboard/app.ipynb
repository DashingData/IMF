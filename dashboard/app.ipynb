{
 "cells": [
  {
   "cell_type": "code",
   "execution_count": 4,
   "id": "fc898afb",
   "metadata": {},
   "outputs": [
    {
     "name": "stderr",
     "output_type": "stream",
     "text": [
      "2025-07-21 19:37:10.442 Thread 'MainThread': missing ScriptRunContext! This warning can be ignored when running in bare mode.\n",
      "2025-07-21 19:37:10.444 Thread 'MainThread': missing ScriptRunContext! This warning can be ignored when running in bare mode.\n",
      "2025-07-21 19:37:10.446 Thread 'MainThread': missing ScriptRunContext! This warning can be ignored when running in bare mode.\n",
      "2025-07-21 19:37:10.447 Thread 'MainThread': missing ScriptRunContext! This warning can be ignored when running in bare mode.\n",
      "2025-07-21 19:37:12.947 Thread 'MainThread': missing ScriptRunContext! This warning can be ignored when running in bare mode.\n",
      "2025-07-21 19:37:12.948 Thread 'MainThread': missing ScriptRunContext! This warning can be ignored when running in bare mode.\n",
      "2025-07-21 19:37:12.949 Thread 'MainThread': missing ScriptRunContext! This warning can be ignored when running in bare mode.\n",
      "2025-07-21 19:37:12.950 Thread 'MainThread': missing ScriptRunContext! This warning can be ignored when running in bare mode.\n",
      "2025-07-21 19:37:12.951 Thread 'MainThread': missing ScriptRunContext! This warning can be ignored when running in bare mode.\n",
      "2025-07-21 19:37:12.953 Thread 'MainThread': missing ScriptRunContext! This warning can be ignored when running in bare mode.\n",
      "2025-07-21 19:37:12.954 Thread 'MainThread': missing ScriptRunContext! This warning can be ignored when running in bare mode.\n",
      "2025-07-21 19:37:12.956 Thread 'MainThread': missing ScriptRunContext! This warning can be ignored when running in bare mode.\n",
      "2025-07-21 19:37:12.957 Thread 'MainThread': missing ScriptRunContext! This warning can be ignored when running in bare mode.\n",
      "2025-07-21 19:37:12.958 Thread 'MainThread': missing ScriptRunContext! This warning can be ignored when running in bare mode.\n",
      "2025-07-21 19:37:12.959 Thread 'MainThread': missing ScriptRunContext! This warning can be ignored when running in bare mode.\n",
      "2025-07-21 19:37:12.960 Thread 'MainThread': missing ScriptRunContext! This warning can be ignored when running in bare mode.\n",
      "2025-07-21 19:37:12.961 Thread 'MainThread': missing ScriptRunContext! This warning can be ignored when running in bare mode.\n"
     ]
    }
   ],
   "source": [
    "import streamlit as st\n",
    "from transformers import AutoTokenizer, AutoModelForSeq2SeqLM\n",
    "import torch\n",
    "\n",
    "# --- Title --- #\n",
    "st.set_page_config(page_title=\"Sovereign Risk Scoring App\")\n",
    "st.title(\"\\U0001F4CA Sovereign Risk Analyzer\")\n",
    "\n",
    "# --- Static Scores for Demo --- #\n",
    "COUNTRY_RISK_SCORES = {\n",
    "    \"India\": 78,\n",
    "    \"Argentina\": 42,\n",
    "    \"Germany\": 90,\n",
    "    \"Pakistan\": 35,\n",
    "    \"Nigeria\": 40,\n",
    "    \"United States\": 88,\n",
    "    \"Greece\": 50,\n",
    "    \"Japan\": 75,\n",
    "    \"Brazil\": 60,\n",
    "    \"Myanmar\": 30\n",
    "}\n",
    "\n",
    "# --- Load FLAN-T5 Model --- #\n",
    "@st.cache_resource(show_spinner=False)\n",
    "def load_model():\n",
    "    model_name = \"google/flan-t5-small\"\n",
    "    tokenizer = AutoTokenizer.from_pretrained(model_name)\n",
    "    model = AutoModelForSeq2SeqLM.from_pretrained(model_name)\n",
    "    return tokenizer, model\n",
    "\n",
    "tokenizer, model = load_model()\n",
    "device = \"cuda\" if torch.cuda.is_available() else \"cpu\"\n",
    "model.to(device)\n",
    "\n",
    "# --- Country Selection --- #\n",
    "country = st.selectbox(\"Select a country to evaluate:\", list(COUNTRY_RISK_SCORES.keys()))\n",
    "\n",
    "# --- Generate Prompt & Response --- #\n",
    "if st.button(\"Generate Sovereign Risk Report\"):\n",
    "    with st.spinner(\"Analyzing with LLM...\"):\n",
    "        score = COUNTRY_RISK_SCORES[country]\n",
    "        prompt = f\"Give a brief sovereign risk analysis for {country} based on its risk score of {score}/100.\"\n",
    "\n",
    "        inputs = tokenizer(prompt, return_tensors=\"pt\").to(device)\n",
    "        outputs = model.generate(**inputs, max_new_tokens=100)\n",
    "        decoded = tokenizer.decode(outputs[0], skip_special_tokens=True)\n",
    "\n",
    "        # Display Results\n",
    "        st.subheader(f\"Risk Score for {country}: {score}/100\")\n",
    "        st.markdown(\"---\")\n",
    "        st.write(decoded)\n",
    "        st.markdown(\"---\")\n",
    "        st.info(\"Note: Score is based on mock logic and should be replaced with ML predictions in production.\")\n"
   ]
  },
  {
   "cell_type": "code",
   "execution_count": null,
   "id": "68302bc0",
   "metadata": {},
   "outputs": [],
   "source": []
  },
  {
   "cell_type": "code",
   "execution_count": null,
   "id": "0ef44f79",
   "metadata": {},
   "outputs": [],
   "source": []
  }
 ],
 "metadata": {
  "kernelspec": {
   "display_name": "env",
   "language": "python",
   "name": "python3"
  },
  "language_info": {
   "codemirror_mode": {
    "name": "ipython",
    "version": 3
   },
   "file_extension": ".py",
   "mimetype": "text/x-python",
   "name": "python",
   "nbconvert_exporter": "python",
   "pygments_lexer": "ipython3",
   "version": "3.12.7"
  }
 },
 "nbformat": 4,
 "nbformat_minor": 5
}
