{
 "cells": [
  {
   "cell_type": "code",
   "execution_count": 2,
   "id": "5b91909f",
   "metadata": {},
   "outputs": [],
   "source": [
    "import numpy as np\n",
    "import pandas as pd\n",
    "import os"
   ]
  },
  {
   "cell_type": "code",
   "execution_count": null,
   "id": "fa0c2b4c",
   "metadata": {},
   "outputs": [],
   "source": [
    "\n",
    "# Step 1: Ensure target folder exists\n",
    "output_folder = \"/home/abhishek/Desktop/IMF/src/merging\"\n",
    "os.makedirs(output_folder, exist_ok=True)"
   ]
  },
  {
   "cell_type": "code",
   "execution_count": 5,
   "id": "3e0a0454",
   "metadata": {},
   "outputs": [
    {
     "name": "stdout",
     "output_type": "stream",
     "text": [
      "✅ All IMF datasets combined and saved to:\n",
      "/home/abhishek/Desktop/IMF/data/processed/Combined_data/IMF_merged_data.csv\n"
     ]
    }
   ],
   "source": [
    "# Step 2: File paths to combine\n",
    "file_paths = [\n",
    "    \"/home/abhishek/Desktop/IMF/data/processed/GFS/GFS_processed_data.csv\",\n",
    "    \"/home/abhishek/Desktop/IMF/data/processed/IFS/combine/IFS_combined.csv\",\n",
    "    \"/home/abhishek/Desktop/IMF/data/processed/Manual_data/manually_default.csv\",\n",
    "    \"/home/abhishek/Desktop/IMF/data/processed/WEO/weo_data.csv\"\n",
    "]\n",
    "\n",
    "# Step 3: Read all files\n",
    "dfs = [pd.read_csv(f) for f in file_paths]\n",
    "\n",
    "# Step 4: Combine into one DataFrame\n",
    "combined_df = pd.concat(dfs, ignore_index=True)\n",
    "\n",
    "# Step 5: Save the final merged file\n",
    "output_path = os.path.join(output_folder, \"IMF_merged_data.csv\")\n",
    "combined_df.to_csv(output_path, index=False)\n",
    "\n",
    "# ✅ Done\n",
    "print(\"✅ All IMF datasets combined and saved to:\")\n",
    "print(output_path)"
   ]
  },
  {
   "cell_type": "code",
   "execution_count": null,
   "id": "09f885b5",
   "metadata": {},
   "outputs": [],
   "source": []
  }
 ],
 "metadata": {
  "kernelspec": {
   "display_name": "env",
   "language": "python",
   "name": "python3"
  },
  "language_info": {
   "codemirror_mode": {
    "name": "ipython",
    "version": 3
   },
   "file_extension": ".py",
   "mimetype": "text/x-python",
   "name": "python",
   "nbconvert_exporter": "python",
   "pygments_lexer": "ipython3",
   "version": "3.12.7"
  }
 },
 "nbformat": 4,
 "nbformat_minor": 5
}
